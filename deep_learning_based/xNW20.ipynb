{
 "cells": [
  {
   "cell_type": "markdown",
   "metadata": {},
   "source": [
    "# Sparsistent model discovery\n",
    "## Newell-Whitehead equation"
   ]
  },
  {
   "cell_type": "code",
   "execution_count": 1,
   "metadata": {},
   "outputs": [],
   "source": [
    "import os\n",
    "os.environ['XLA_PYTHON_CLIENT_MEM_FRACTION']='.3'\n",
    "\n",
    "import numpy as np\n",
    "import matplotlib.pylab as plt\n",
    "import seaborn as sns\n",
    "sns.set(font_scale=1.5)\n",
    "sns.set_style(\"white\")\n",
    "from time import time\n",
    "\n",
    "from sklearn.model_selection import train_test_split\n",
    "from sklearn.utils.random import sample_without_replacement\n",
    "from sklearn.utils import shuffle,resample\n",
    "from sklearn.linear_model import Ridge\n",
    "\n",
    "import jax\n",
    "from jax import random, numpy as jnp\n",
    "from flax import optim\n",
    "from flax.core import freeze, unfreeze\n",
    "\n",
    "import sys\n",
    "sys.path.append('pdeX')\n",
    "from sparsity_estimators import ir_cond,ir_condAL, get_mask_single\n",
    "from DeepModx import pdeX, create_update_state, loss_fn_pinn_multi2, mse_test,mask_scheduler, Logger, Convergence"
   ]
  },
  {
   "cell_type": "markdown",
   "metadata": {},
   "source": [
    "# General params"
   ]
  },
  {
   "cell_type": "code",
   "execution_count": 2,
   "metadata": {},
   "outputs": [],
   "source": [
    "key = random.PRNGKey(42)\n",
    "np.random.seed(42)"
   ]
  },
  {
   "cell_type": "code",
   "execution_count": 3,
   "metadata": {},
   "outputs": [],
   "source": [
    "# Data\n",
    "noise_level = 0.2\n",
    "number_of_samples = 2000\n",
    "path = 'logs/xNW20' # path to log tensorboard files\n",
    "\n",
    "x     = np.load('data/turing_x'+'_'+str(number_of_samples)+'.npy')\n",
    "t     = np.load('data/turing_t'+'_'+str(number_of_samples)+'.npy')\n",
    "u     = np.array(np.load('data/turing_u'+'_'+str(number_of_samples)+'.npy'),dtype=np.float32).reshape(len(x),len(t))\n",
    "\n",
    "\n",
    "# DeepMod parameters\n",
    "# neural net architecture\n",
    "nn_shared_features = []\n",
    "nn_specific_features = [65,65,65,65,1]\n",
    "\n",
    "# learning parameters\n",
    "deltaSP = 1e-5 # target MSE on test set before triggering sparsity for the first time\n",
    "deltaC = 1e-2  # converge criterion\n",
    "learning_rate = 5e-5\n",
    "max_epochs = 1e5+1\n",
    "\n",
    "# logging\n",
    "write_tensorboard = True\n",
    "\n",
    "# sparsity method\n",
    "method = 'adaLassoSS' #tLassoCV"
   ]
  },
  {
   "cell_type": "code",
   "execution_count": 4,
   "metadata": {},
   "outputs": [],
   "source": [
    "# library terms labels\n",
    "\n",
    "lib_labels = ['1',\n",
    "r'$u_x$',\n",
    "r'$u_{xx}$',\n",
    "r'$u_{xxx}$',\n",
    "r'$u_{xxxx}$',\n",
    "r'$u_{xxxxx}$',\n",
    "r'$u$',\n",
    "r'$uu_x$',\n",
    "r'$uu_{xx}$',\n",
    "r'$uu_{xxx}$',\n",
    "r'$uu_{xxxx}$',\n",
    "r'$uu_{xxxxx}$',\n",
    "r'$u^2$',\n",
    "r'$u^2u_x$',\n",
    "r'$u^2u_{xx}$',\n",
    "r'$u^2u_{xxx}$',\n",
    "r'$u^2u_{xxxx}$',\n",
    "r'$u^2u_{xxxxx}$',\n",
    "r'$u^3$',\n",
    "r'$u^3u_x$',\n",
    "r'$u^3u_{xx}$',\n",
    "r'$u^3u_{xxx}$',\n",
    "r'$u^3u_{xxxx}$',\n",
    "r'$u^3u_{xxxxx}$',\n",
    "r'$u^4$',\n",
    "r'$u^4u_x$',\n",
    "r'$u^4u_{xx}$',\n",
    "r'$u^4u_{xxx}$',\n",
    "r'$u^4u_{xxxx}$',\n",
    "r'$u^4u_{xxxxx}$',\n",
    "r'$u^5$',\n",
    "r'$u^5u_x$',\n",
    "r'$u^5u_{xx}$',\n",
    "r'$u^5u_{xxx}$',\n",
    "r'$u^5u_{xxxx}$',\n",
    "r'$u^5u_{xxxxx}$']"
   ]
  },
  {
   "cell_type": "markdown",
   "metadata": {},
   "source": [
    "# Input data with some noise"
   ]
  },
  {
   "cell_type": "code",
   "execution_count": 5,
   "metadata": {},
   "outputs": [],
   "source": [
    "noise_l = noise_level*np.std(u)*np.random.randn(u.shape[0],u.shape[1])\n",
    "u = u + noise_l"
   ]
  },
  {
   "cell_type": "code",
   "execution_count": 6,
   "metadata": {},
   "outputs": [],
   "source": [
    "x_grid,  t_grid = jnp.meshgrid(x,  t, indexing=\"ij\")"
   ]
  },
  {
   "cell_type": "code",
   "execution_count": 7,
   "metadata": {},
   "outputs": [
    {
     "data": {
      "image/png": "[encoded data removed]",
      "text/plain": [
       "<Figure size 288x288 with 1 Axes>"
      ]
     },
     "metadata": {},
     "output_type": "display_data"
    }
   ],
   "source": [
    "fig,ax = plt.subplots(1,1, figsize=(4,4))\n",
    "\n",
    "u1_noisy = u\n",
    "\n",
    "bx = sns.heatmap(u1_noisy.T,ax=ax,vmin=0,vmax=1,cmap='Spectral',cbar=False)\n",
    "bx.invert_yaxis()    \n",
    "bx.set_xticks([])\n",
    "bx.set_yticks([])\n",
    "\n",
    "ax.set_xlabel('x')\n",
    "ax.set_ylabel('t');"
   ]
  },
  {
   "cell_type": "markdown",
   "metadata": {},
   "source": [
    "## subsampling and normalizing"
   ]
  },
  {
   "cell_type": "code",
   "execution_count": 8,
   "metadata": {},
   "outputs": [],
   "source": [
    "idx = resample(np.arange(u1_noisy.ravel().shape[0]),replace=False,random_state=0,n_samples=number_of_samples)\n",
    "\n",
    "u1_noisy_shuffled = (u1_noisy.ravel())[idx]\n",
    "xs = ((x_grid.ravel())[idx]).reshape(-1,1)\n",
    "ts = ((t_grid).ravel()[idx]).reshape(-1,1)"
   ]
  },
  {
   "cell_type": "code",
   "execution_count": 9,
   "metadata": {},
   "outputs": [],
   "source": [
    "scale_from_outputs = []\n",
    "u_d = []\n",
    "\n",
    "# scaling and subsampling\n",
    "u_sampled = u1_noisy_shuffled.reshape(-1,1)\n",
    "u_max = u_sampled.max()\n",
    "scale_from_outputs.append(u_max)\n",
    "u_d.append(u_sampled/u_max)    "
   ]
  },
  {
   "cell_type": "code",
   "execution_count": 10,
   "metadata": {},
   "outputs": [],
   "source": [
    "X_data = jnp.concatenate([ts/t.max(),xs/x.max()],axis=1)\n",
    "y_data = jnp.concatenate(u_d,axis=0)"
   ]
  },
  {
   "cell_type": "code",
   "execution_count": 11,
   "metadata": {},
   "outputs": [
    {
     "name": "stdout",
     "output_type": "stream",
     "text": [
      "(2000, 2)\n",
      "(2000, 1)\n"
     ]
    }
   ],
   "source": [
    "print(X_data.shape)\n",
    "print(y_data.shape)"
   ]
  },
  {
   "cell_type": "markdown",
   "metadata": {},
   "source": [
    "## splitting into training and testing"
   ]
  },
  {
   "cell_type": "code",
   "execution_count": 12,
   "metadata": {},
   "outputs": [],
   "source": [
    "X_train, X_test, y_train, y_test = train_test_split(X_data, y_data, test_size=0.2, random_state=42)"
   ]
  },
  {
   "cell_type": "code",
   "execution_count": 13,
   "metadata": {},
   "outputs": [
    {
     "data": {
      "text/plain": [
       "[<matplotlib.lines.Line2D at 0x7fb9f8503280>]"
      ]
     },
     "execution_count": 13,
     "metadata": {},
     "output_type": "execute_result"
    },
    {
     "data": {
      "image/png": "[encoded data removed]",
      "text/plain": [
       "<Figure size 432x288 with 1 Axes>"
      ]
     },
     "metadata": {},
     "output_type": "display_data"
    }
   ],
   "source": [
    "plt.plot(y_train[:,0])\n",
    "plt.plot(y_test[:,0])"
   ]
  },
  {
   "cell_type": "code",
   "execution_count": 14,
   "metadata": {},
   "outputs": [
    {
     "data": {
      "text/plain": [
       "[<matplotlib.lines.Line2D at 0x7fb9f84e1f10>]"
      ]
     },
     "execution_count": 14,
     "metadata": {},
     "output_type": "execute_result"
    },
    {
     "data": {
      "image/png": "[encoded data removed]",
      "text/plain": [
       "<Figure size 432x288 with 1 Axes>"
      ]
     },
     "metadata": {},
     "output_type": "display_data"
    }
   ],
   "source": [
    "plt.plot(y_train[:,1])\n",
    "plt.plot(y_test[:,1])"
   ]
  },
  {
   "cell_type": "markdown",
   "metadata": {},
   "source": [
    "# Model initialization and parameters"
   ]
  },
  {
   "cell_type": "code",
   "execution_count": 15,
   "metadata": {},
   "outputs": [],
   "source": [
    "# Instantiating model and optimizers\n",
    "model = pdeX(nn_shared_features, nn_specific_features, 1)"
   ]
  },
  {
   "cell_type": "code",
   "execution_count": 16,
   "metadata": {},
   "outputs": [],
   "source": [
    "optimizer = optim.Adam(learning_rate=learning_rate, beta1=0.99, beta2=0.99)\n",
    "logger = Logger(path)\n",
    "converged = Convergence(delta=deltaC)"
   ]
  },
  {
   "cell_type": "code",
   "execution_count": 17,
   "metadata": {},
   "outputs": [],
   "source": [
    "sparsity_scheduler = mask_scheduler(delta=deltaSP)"
   ]
  },
  {
   "cell_type": "code",
   "execution_count": 18,
   "metadata": {},
   "outputs": [],
   "source": [
    "# initializing\n",
    "variables = model.init(key, X_train)\n",
    "state, params = variables.pop('params')\n",
    "y, updated_state = model.apply(variables, X_train, mutable=['coeffs_mask'])\n",
    "optimizer = optimizer.create(params)\n",
    "# compiling train step\n",
    "update = create_update_state(loss_fn_pinn_multi2, model=model, x=X_train, y=y_train)\n",
    "_ = update(optimizer, state)  # triggering compilation"
   ]
  },
  {
   "cell_type": "markdown",
   "metadata": {},
   "source": [
    "# Training "
   ]
  },
  {
   "cell_type": "code",
   "execution_count": 19,
   "metadata": {
    "scrolled": true,
    "tags": []
   },
   "outputs": [
    {
     "name": "stdout",
     "output_type": "stream",
     "text": [
      "Loss step 0.0: 0.45569488406181335\u001b[1K\r"
     ]
    },
    {
     "name": "stderr",
     "output_type": "stream",
     "text": [
      "/home/neptune/.local/lib/python3.8/site-packages/sklearn/linear_model/_ridge.py:147: LinAlgWarning: Ill-conditioned matrix (rcond=4.04164e-08): result may not be accurate.\n",
      "  return linalg.solve(A, Xy, sym_pos=True,\n"
     ]
    },
    {
     "name": "stdout",
     "output_type": "stream",
     "text": [
      "sparsity at  2725.0.008339456282556057\u001b[1K\n",
      "Converged at epoch 9675.07250588536263\u001b[1K\n"
     ]
    }
   ],
   "source": [
    "t_start = time()\n",
    "counter = 0\n",
    "\n",
    "for epoch in jnp.arange(max_epochs):\n",
    "\n",
    "    # updating the model\n",
    "    (optimizer, state), metrics, dt, theta, coeffs, coeffs_mask = update(optimizer, state)\n",
    "    if epoch % 500 == 0:\n",
    "        print(f\"Loss step {epoch}: {metrics['mse']}\", end='\\x1b[1K\\r')\n",
    "    \n",
    "    if epoch % 25 == 0:   \n",
    "        # computing losses on test set, masks are set individually\n",
    "        loss_test, loss_test_exp_wise = mse_test(model, optimizer.target, state, X_test, y_test)\n",
    "        loss_test_metric = {'loss_test':loss_test_exp_wise}\n",
    "        \n",
    "        ############ Logging the IRC ################################################\n",
    "    \n",
    "        metrics = {**metrics, **loss_test_metric}\n",
    "        thetaNP = np.array(theta,dtype=np.float32).squeeze()\n",
    "        dtNP = np.array(dt,dtype=np.float32).squeeze()\n",
    "\n",
    "        # IRC\n",
    "        # normalizing\n",
    "        normed_theta = thetaNP/np.linalg.norm(thetaNP,axis=0,keepdims=True)\n",
    "        normed_dt = dtNP/np.linalg.norm(dtNP,axis=0,keepdims=True)\n",
    "        # with adaptive weights\n",
    "        weights = (np.abs(Ridge(alpha=1e-10,fit_intercept=False).fit(normed_theta,normed_dt).coef_).ravel())**2\n",
    "        normed_theta_w = normed_theta * weights[np.newaxis, :]\n",
    "\n",
    "        # Once sparsity has been triggered\n",
    "        if counter==1:\n",
    "            ########################### for old DeepMod\n",
    "            if method!='tLassoCV':\n",
    "                [tau,piT,pSE,alphas, minLambdaSS, active_set,region] = extras\n",
    "            \n",
    "                # Probability of being selected\n",
    "                pSEmax = np.array(pSE).max(axis=0)\n",
    "                prob = {'prob_selec':pSEmax}   \n",
    "                metrics = {**metrics, **prob}\n",
    "\n",
    "                Point_of_View = np.where(active_set)[0].tolist()\n",
    "\n",
    "\n",
    "            if method=='tLassoCV':\n",
    "                Point_of_View = np.where(mask)[1].tolist()\n",
    "            ########################### for old DeepMod\n",
    "\n",
    "            # Diagnosing library design\n",
    "            x1 = normed_theta_w[:,Point_of_View]\n",
    "            x2 = normed_theta_w[:,np.setdiff1d(np.arange(0,normed_theta.shape[1]),np.array(Point_of_View))]\n",
    "\n",
    "            metric_PoV = np.abs(np.linalg.inv(x1.T @ x1) @ x1.T @ x2)\n",
    "            deltaPoV = np.linalg.norm(metric_PoV,1,axis=0).max()        \n",
    "            lhs_PoV = {'PoV':np.array(deltaPoV)}        \n",
    "            metrics = {**metrics, **lhs_PoV}\n",
    "        \n",
    "        logger.write(metrics, epoch)\n",
    "        #############################################################################\n",
    "\n",
    "        # optimizer best is based on group\n",
    "        update_sparsity, optimizer = sparsity_scheduler(loss_test, epoch, optimizer)\n",
    "        if update_sparsity:   \n",
    "            ############################################################################################\n",
    "            if counter == 0:\n",
    "                np.save(path +'/theta_IN',theta)\n",
    "                np.save(path +'/dt_IN',dt)\n",
    "                counter = 1\n",
    "                print('sparsity at ', epoch)\n",
    "\n",
    "            # that component mask needs to be updated & new mask not yet computed\n",
    "            new_mask,extras = get_mask_single(theta[0],dt[0],method=method)   \n",
    "            new_mask = new_mask.reshape(1,new_mask.shape[0],new_mask.shape[1])\n",
    "            ############################################################################################\n",
    "\n",
    "            # update the masks, the state\n",
    "            mask = new_mask\n",
    "            state = freeze({'coeffs_mask': {'maskC': jnp.array(mask)}})\n",
    "\n",
    "\n",
    "        if converged(epoch, coeffs):\n",
    "            print(f'Converged at epoch {epoch}')\n",
    "\n",
    "            np.save(path +'/theta_FIN',theta)\n",
    "            np.save(path +'/dt_FIN',dt)\n",
    "\n",
    "            break\n",
    "\n",
    "logger.close()\n",
    "t_end = time()\n",
    "\n",
    "############################################################################################\n",
    "############################################################################################                    "
   ]
  },
  {
   "cell_type": "code",
   "execution_count": 20,
   "metadata": {},
   "outputs": [
    {
     "name": "stdout",
     "output_type": "stream",
     "text": [
      "380.55238127708435\n"
     ]
    }
   ],
   "source": [
    "print(t_end - t_start)"
   ]
  },
  {
   "cell_type": "markdown",
   "metadata": {},
   "source": [
    "# Results"
   ]
  },
  {
   "cell_type": "code",
   "execution_count": 21,
   "metadata": {},
   "outputs": [],
   "source": [
    "new_params = optimizer.target\n",
    "new_variables = freeze({'params': new_params.unfreeze(), **state.unfreeze()})"
   ]
  },
  {
   "cell_type": "code",
   "execution_count": 22,
   "metadata": {
    "scrolled": true
   },
   "outputs": [],
   "source": [
    "coeffs = model.apply(new_variables,X_train,mutable=['coeffs_mask'])[0][3]\n",
    "xi = coeffs[:,:,0].T"
   ]
  },
  {
   "cell_type": "code",
   "execution_count": 23,
   "metadata": {},
   "outputs": [],
   "source": [
    "scale_on_inputs = np.tile(np.array([1,x.max(),x.max()**2,x.max()**3,x.max()**4,x.max()**5]),6).reshape(-1,1)\n",
    "\n",
    "coeffsS = xi*scale_on_inputs/t.max()\n",
    "    \n",
    "    \n",
    "scaling_term_wise = []\n",
    "scaling_all = []\n",
    "for i in range(xi.shape[1]):\n",
    "    \n",
    "    scaling_term_wise.append([1,1/scale_from_outputs[i],   1/scale_from_outputs[i],   1/scale_from_outputs[i],    1/scale_from_outputs[i],   1/scale_from_outputs[i], \n",
    "                              1/scale_from_outputs[i],1/scale_from_outputs[i]**2,1/scale_from_outputs[i]**2,1/scale_from_outputs[i]**2, 1/scale_from_outputs[i]**2,1/scale_from_outputs[i]**2,\n",
    "                              1/scale_from_outputs[i]**2,1/scale_from_outputs[i]**3,1/scale_from_outputs[i]**3,1/scale_from_outputs[i]**3, 1/scale_from_outputs[i]**3,1/scale_from_outputs[i]**3,\n",
    "                              1/scale_from_outputs[i]**3,1/scale_from_outputs[i]**4,1/scale_from_outputs[i]**4,1/scale_from_outputs[i]**4, 1/scale_from_outputs[i]**4,1/scale_from_outputs[i]**4,\n",
    "                              1/scale_from_outputs[i]**4,1/scale_from_outputs[i]**5,1/scale_from_outputs[i]**5,1/scale_from_outputs[i]**5, 1/scale_from_outputs[i]**5,1/scale_from_outputs[i]**5,\n",
    "                              1/scale_from_outputs[i]**5,1/scale_from_outputs[i]**6,1/scale_from_outputs[i]**6,1/scale_from_outputs[i]**6, 1/scale_from_outputs[i]**6,1/scale_from_outputs[i]**6])\n",
    "    \n",
    "    scaling_all.append(np.repeat(np.array([scale_from_outputs[i]]),36)) \n",
    "    \n",
    "scaling_term_wise = np.array(scaling_term_wise).T\n",
    "scaling_all = np.array(scaling_all).T"
   ]
  },
  {
   "cell_type": "markdown",
   "metadata": {},
   "source": [
    "## learned PDE coefficients"
   ]
  },
  {
   "cell_type": "code",
   "execution_count": 24,
   "metadata": {},
   "outputs": [
    {
     "data": {
      "text/plain": [
       "array([[-0.39622518],\n",
       "       [ 0.        ],\n",
       "       [10.16156101],\n",
       "       [ 0.        ],\n",
       "       [ 0.        ],\n",
       "       [ 0.        ],\n",
       "       [ 1.01096439],\n",
       "       [ 0.        ],\n",
       "       [ 0.        ],\n",
       "       [ 0.        ],\n",
       "       [ 0.        ],\n",
       "       [ 0.        ],\n",
       "       [ 0.        ],\n",
       "       [ 0.        ],\n",
       "       [ 0.        ],\n",
       "       [ 0.        ],\n",
       "       [ 0.        ],\n",
       "       [ 0.        ],\n",
       "       [-1.00012375],\n",
       "       [ 0.        ],\n",
       "       [ 0.        ],\n",
       "       [ 0.        ],\n",
       "       [ 0.        ],\n",
       "       [ 0.        ],\n",
       "       [ 0.        ],\n",
       "       [ 0.        ],\n",
       "       [ 0.        ],\n",
       "       [ 0.        ],\n",
       "       [ 0.        ],\n",
       "       [ 0.        ],\n",
       "       [ 0.        ],\n",
       "       [ 0.        ],\n",
       "       [ 0.        ],\n",
       "       [ 0.        ],\n",
       "       [ 0.        ],\n",
       "       [ 0.        ]])"
      ]
     },
     "execution_count": 24,
     "metadata": {},
     "output_type": "execute_result"
    }
   ],
   "source": [
    "xi = np.array(coeffsS)*scaling_term_wise*scaling_all\n",
    "xi"
   ]
  },
  {
   "cell_type": "markdown",
   "metadata": {},
   "source": [
    "## recovered PDE terms"
   ]
  },
  {
   "cell_type": "code",
   "execution_count": 25,
   "metadata": {},
   "outputs": [],
   "source": [
    "non_zero_terms = np.where(np.abs(xi)>0)[0]"
   ]
  },
  {
   "cell_type": "code",
   "execution_count": 26,
   "metadata": {},
   "outputs": [
    {
     "data": {
      "text/plain": [
       "array(['1', '$u_{xx}$', '$u$', '$u^3$'], dtype='<U14')"
      ]
     },
     "execution_count": 26,
     "metadata": {},
     "output_type": "execute_result"
    }
   ],
   "source": [
    "np.array(lib_labels)[non_zero_terms]"
   ]
  },
  {
   "cell_type": "code",
   "execution_count": 27,
   "metadata": {},
   "outputs": [],
   "source": [
    "def X_new(nx,nt):\n",
    "    x1 = jnp.linspace(x.min(), x.max(), nx)\n",
    "    t1 = jnp.linspace(t.min(), t.max(), nt)    \n",
    "    t_grid, x_grid = jnp.meshgrid(t1, x1, indexing=\"ij\")\n",
    "    Xnn = jnp.concatenate([(t_grid/t.max()).reshape(-1, 1), (x_grid/x.max()).reshape(-1, 1)], axis=1)\n",
    "\n",
    "    return Xnn\n",
    "\n",
    "nx = 100\n",
    "nt = 100\n",
    "uu = model.apply(new_variables, X_new(nx,nt), mutable=list(state.keys()))[0]"
   ]
  },
  {
   "cell_type": "markdown",
   "metadata": {},
   "source": [
    "## learned underlying field"
   ]
  },
  {
   "cell_type": "code",
   "execution_count": 28,
   "metadata": {},
   "outputs": [
    {
     "data": {
      "text/plain": [
       "Text(4.5, 0.5, 't')"
      ]
     },
     "execution_count": 28,
     "metadata": {},
     "output_type": "execute_result"
    },
    {
     "data": {
      "image/png": "[encoded data removed]",
      "text/plain": [
       "<Figure size 288x288 with 1 Axes>"
      ]
     },
     "metadata": {},
     "output_type": "display_data"
    }
   ],
   "source": [
    "fig,ax = plt.subplots(1,1, figsize=(4,4))\n",
    "\n",
    "bx = sns.heatmap(uu[0][:,0].reshape(nt,nx)*scale_from_outputs[0],ax=ax,vmin=0,vmax=1,cmap='Spectral',cbar=False)\n",
    "bx.invert_yaxis()    \n",
    "bx.set_xticks([])\n",
    "bx.set_yticks([])\n",
    "\n",
    "ax.set_xlabel('x')\n",
    "ax.set_ylabel('t')"
   ]
  },
  {
   "cell_type": "code",
   "execution_count": 29,
   "metadata": {},
   "outputs": [
    {
     "data": {
      "text/plain": [
       "[<matplotlib.lines.Line2D at 0x7fb9d01c8160>]"
      ]
     },
     "execution_count": 29,
     "metadata": {},
     "output_type": "execute_result"
    },
    {
     "data": {
      "image/png": "[encoded data removed]",
      "text/plain": [
       "<Figure size 432x288 with 1 Axes>"
      ]
     },
     "metadata": {},
     "output_type": "display_data"
    }
   ],
   "source": [
    "plt.plot(jnp.linspace(x.min(), x.max(), nx),(uu[0][:,0].reshape(nt,nx)[0,:])*scale_from_outputs[0])\n",
    "plt.plot(x,u[:,0],alpha=0.5)"
   ]
  },
  {
   "cell_type": "code",
   "execution_count": 30,
   "metadata": {},
   "outputs": [],
   "source": [
    "import pickle\n",
    "np.save(path +'/scale_from_outputs',scale_from_outputs[0])\n",
    "np.save(path +'/theta_FIN',theta)\n",
    "np.save(path +'/dt_FIN',dt)\n",
    "a_file = open(path + \"/new_params.pkl\", \"wb\")\n",
    "pickle.dump(new_params.unfreeze(), a_file)\n",
    "a_file.close()\n",
    "a_file = open(path + \"/state.pkl\", \"wb\")\n",
    "pickle.dump(state.unfreeze(), a_file)\n",
    "a_file.close()"
   ]
  }
 ],
 "metadata": {
  "kernelspec": {
   "display_name": "Python 3",
   "language": "python",
   "name": "python3"
  },
  "language_info": {
   "codemirror_mode": {
    "name": "ipython",
    "version": 3
   },
   "file_extension": ".py",
   "mimetype": "text/x-python",
   "name": "python",
   "nbconvert_exporter": "python",
   "pygments_lexer": "ipython3",
   "version": "3.8.10"
  }
 },
 "nbformat": 4,
 "nbformat_minor": 4
}
