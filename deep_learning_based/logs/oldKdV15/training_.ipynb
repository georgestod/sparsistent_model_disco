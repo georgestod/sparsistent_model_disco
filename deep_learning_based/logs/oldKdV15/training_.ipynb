{
 "cells": [
  {
   "cell_type": "code",
   "execution_count": 1,
   "metadata": {},
   "outputs": [],
   "source": [
    "import os\n",
    "import glob\n",
    "from tensorflow.python.summary.summary_iterator import summary_iterator\n",
    "\n",
    "import matplotlib.pylab as plt\n",
    "import numpy as np\n",
    "from sklearn.model_selection import train_test_split\n",
    "from sklearn.utils.random import sample_without_replacement\n",
    "from sklearn.utils import shuffle,resample\n",
    "from sklearn.linear_model import Ridge\n",
    "\n",
    "\n",
    "from time import time\n",
    "\n",
    "%load_ext autoreload\n",
    "%autoreload 2"
   ]
  },
  {
   "cell_type": "code",
   "execution_count": 2,
   "metadata": {},
   "outputs": [],
   "source": [
    "import seaborn as sns\n"
   ]
  },
  {
   "cell_type": "code",
   "execution_count": 3,
   "metadata": {},
   "outputs": [],
   "source": [
    "sns.set(font_scale=1.5)\n",
    "sns.set_style(\"white\")\n"
   ]
  },
  {
   "cell_type": "code",
   "execution_count": 4,
   "metadata": {},
   "outputs": [
    {
     "name": "stdout",
     "output_type": "stream",
     "text": [
      "WARNING:tensorflow:From /home/neptune/anaconda3/envs/eX/lib/python3.8/site-packages/tensorflow/python/summary/summary_iterator.py:31: tf_record_iterator (from tensorflow.python.lib.io.tf_record) is deprecated and will be removed in a future version.\n",
      "Instructions for updating:\n",
      "Use eager execution and: \n",
      "`tf.data.TFRecordDataset(path)`\n",
      "no\n",
      "wall_time: 1633363560.1216474\n",
      "summary {\n",
      "  value {\n",
      "    tag: \"3_Training/loss\"\n",
      "    simple_value: 0.13257120549678802\n",
      "  }\n",
      "}\n",
      "\n",
      "wall_time: 1633363560.2165048\n",
      "summary {\n",
      "  value {\n",
      "    tag: \"3_Training/mse\"\n",
      "    simple_value: 0.05234268680214882\n",
      "  }\n",
      "}\n",
      "\n"
     ]
    }
   ],
   "source": [
    "\n",
    "l_mse  = []\n",
    "l_reg  = []\n",
    "l_loss = []\n",
    "l_IRC = []\n",
    "l_IRCada = []\n",
    "l_PoV = []\n",
    "l_cnum = []\n",
    "l_cnum_GT = []\n",
    "\n",
    "for i,value in enumerate(summary_iterator(glob.glob('*.neptune')[0])):\n",
    "    try:\n",
    "        if value.summary.value[0].tag==\"3_Training/mse\":\n",
    "            l_mse.append([value.step,value.summary.value[0].simple_value])\n",
    "        if value.summary.value[0].tag==\"3_Training/reg\":\n",
    "            l_reg.append([value.step,value.summary.value[0].simple_value])\n",
    "        if value.summary.value[0].tag==\"3_Training/loss\":\n",
    "            l_loss.append([value.step,value.summary.value[0].simple_value])\n",
    "        \n",
    "        if value.summary.value[0].tag==\"7_IRC/IRC\":\n",
    "            l_IRC.append([value.step,value.summary.value[0].simple_value])\n",
    "        if value.summary.value[0].tag==\"7_IRC/IRC_Adaptive\":\n",
    "            l_IRCada.append([value.step,value.summary.value[0].simple_value])\n",
    "         \n",
    "        if value.summary.value[0].tag==\"7_IRC/PoV\":\n",
    "            l_PoV.append([value.step,value.summary.value[0].simple_value])\n",
    "       \n",
    "            \n",
    "        if value.summary.value[0].tag==\"7_IRC/cond_num_adaptive\":\n",
    "            l_cnum.append([value.step,value.summary.value[0].simple_value])\n",
    "            \n",
    "\n",
    "        if value.summary.value[0].tag==\"7_IRC/cond_num_adaptive_GT\":\n",
    "            l_cnum_GT.append([value.step,value.summary.value[0].simple_value])\n",
    "\n",
    "            \n",
    "        if i<3:\n",
    "            print(value)\n",
    "    except:\n",
    "        print('no')"
   ]
  },
  {
   "cell_type": "code",
   "execution_count": null,
   "metadata": {},
   "outputs": [],
   "source": []
  },
  {
   "cell_type": "code",
   "execution_count": 5,
   "metadata": {},
   "outputs": [
    {
     "name": "stdout",
     "output_type": "stream",
     "text": [
      "no\n"
     ]
    }
   ],
   "source": [
    "l_mse_test  = []\n",
    "\n",
    "for i,value in enumerate(summary_iterator(glob.glob('4_Test/mse_test/1/*.neptune')[0])):\n",
    "    try:\n",
    "        if value.summary.value[0].tag=='4_Test/mse_test':\n",
    "            l_mse_test.append([value.step,value.summary.value[0].simple_value])             \n",
    "    except:\n",
    "        print('no')"
   ]
  },
  {
   "cell_type": "code",
   "execution_count": 6,
   "metadata": {},
   "outputs": [
    {
     "data": {
      "image/png": "[encoded data removed]",
      "text/plain": [
       "<Figure size 432x288 with 1 Axes>"
      ]
     },
     "metadata": {},
     "output_type": "display_data"
    }
   ],
   "source": [
    "plt.plot(np.array(l_loss)[:,0],np.array(l_loss)[:,1])\n",
    "plt.plot(np.array(l_mse_test)[:,0],np.array(l_mse_test)[:,1])\n",
    "plt.yscale('log')"
   ]
  },
  {
   "cell_type": "code",
   "execution_count": 7,
   "metadata": {},
   "outputs": [
    {
     "data": {
      "text/plain": [
       "[9700, 0.0009565798100084066]"
      ]
     },
     "execution_count": 7,
     "metadata": {},
     "output_type": "execute_result"
    }
   ],
   "source": [
    "l_mse_test[-1]"
   ]
  },
  {
   "cell_type": "code",
   "execution_count": 8,
   "metadata": {},
   "outputs": [
    {
     "name": "stdout",
     "output_type": "stream",
     "text": [
      "no\n",
      "no\n",
      "no\n",
      "no\n",
      "no\n",
      "no\n",
      "no\n",
      "no\n",
      "no\n",
      "no\n",
      "no\n",
      "no\n",
      "no\n",
      "no\n",
      "no\n",
      "no\n",
      "no\n",
      "no\n",
      "no\n",
      "no\n",
      "no\n",
      "no\n",
      "no\n",
      "no\n",
      "no\n",
      "no\n",
      "no\n",
      "no\n",
      "no\n",
      "no\n",
      "no\n",
      "no\n",
      "no\n",
      "no\n",
      "no\n",
      "no\n"
     ]
    }
   ],
   "source": [
    "l_probs=[]\n",
    "for coeff in range(1,37):\n",
    "\n",
    "    path =glob.glob('2_Masks/exp_0/'+str(coeff)+'/*.neptune')[0]\n",
    "    \n",
    "\n",
    "    #print(path)\n",
    "    for i,value in enumerate(summary_iterator(path)):\n",
    "        \n",
    "        try:\n",
    "            if value.summary.value[0].tag==\"2_Masks/exp_0\":\n",
    "                l_probs.append([coeff,value.step,value.summary.value[0].simple_value])\n",
    "                \n",
    "        except:\n",
    "            print('no')\n",
    "m_probs = np.array(l_probs)\n",
    "m_probs = m_probs.reshape(36,int(m_probs.shape[0]/36),3)"
   ]
  },
  {
   "cell_type": "code",
   "execution_count": 9,
   "metadata": {},
   "outputs": [
    {
     "data": {
      "image/png": "[encoded data removed]",
      "text/plain": [
       "<Figure size 432x288 with 1 Axes>"
      ]
     },
     "metadata": {},
     "output_type": "display_data"
    }
   ],
   "source": [
    "for i in range(1,36):\n",
    "\n",
    "    plt.plot(m_probs[i][:,1],m_probs[i][:,2])"
   ]
  },
  {
   "cell_type": "code",
   "execution_count": 10,
   "metadata": {},
   "outputs": [
    {
     "data": {
      "text/plain": [
       "0.0"
      ]
     },
     "execution_count": 10,
     "metadata": {},
     "output_type": "execute_result"
    }
   ],
   "source": [
    "GT = [3,7]\n",
    "\n",
    "mGT = np.zeros(m_probs.shape)\n",
    "\n",
    "\n",
    "mGT[GT,:,2] = 1\n",
    "selec_error = np.abs(m_probs-mGT)\n",
    "\n",
    "total_error = selec_error[0][:,2]\n",
    "\n",
    "for i in range(1,36):\n",
    "    total_error = total_error + selec_error[i][:,2]\n",
    "\n",
    "total_error[-1]"
   ]
  },
  {
   "cell_type": "code",
   "execution_count": 11,
   "metadata": {},
   "outputs": [
    {
     "data": {
      "image/png": "[encoded data removed]",
      "text/plain": [
       "<Figure size 432x288 with 2 Axes>"
      ]
     },
     "metadata": {},
     "output_type": "display_data"
    }
   ],
   "source": [
    "\n",
    "fig,ax = plt.subplots(2,1,sharex='col')\n",
    "\n",
    "\n",
    "ax[0].plot(np.array(l_mse_test)[:,0],np.array(l_mse_test)[:,1])\n",
    "ax[1].plot(selec_error[i][:,1],total_error)\n",
    "\n",
    "ax[0].set_yscale('log')\n",
    "ax[0].set_xscale('log')"
   ]
  },
  {
   "cell_type": "code",
   "execution_count": 12,
   "metadata": {},
   "outputs": [],
   "source": [
    "x_test = np.array(l_mse_test)[:,0]\n",
    "y_test = np.array(l_mse_test)[:,1]\n",
    "\n",
    "y_selec = total_error\n",
    "\n",
    "np.save('x_test',x_test)\n",
    "np.save('y_test',y_test)\n",
    "np.save('y_selec',y_selec)\n",
    "\n"
   ]
  }
 ],
 "metadata": {
  "kernelspec": {
   "display_name": "Python 3",
   "language": "python",
   "name": "python3"
  },
  "language_info": {
   "codemirror_mode": {
    "name": "ipython",
    "version": 3
   },
   "file_extension": ".py",
   "mimetype": "text/x-python",
   "name": "python",
   "nbconvert_exporter": "python",
   "pygments_lexer": "ipython3",
   "version": "3.8.10"
  }
 },
 "nbformat": 4,
 "nbformat_minor": 4
}
